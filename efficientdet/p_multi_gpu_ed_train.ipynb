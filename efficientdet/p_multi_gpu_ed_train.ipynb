{
 "cells": [
  {
   "cell_type": "code",
   "execution_count": 1,
   "metadata": {},
   "outputs": [
    {
     "name": "stdout",
     "output_type": "stream",
     "text": [
      "INFO:tensorflow:Using MirroredStrategy with devices ('/job:localhost/replica:0/task:0/device:GPU:0', '/job:localhost/replica:0/task:0/device:GPU:1')\n"
     ]
    },
    {
     "name": "stderr",
     "output_type": "stream",
     "text": [
      "2022-02-07 20:01:28.206919: I tensorflow/core/platform/cpu_feature_guard.cc:151] This TensorFlow binary is optimized with oneAPI Deep Neural Network Library (oneDNN) to use the following CPU instructions in performance-critical operations:  AVX2 AVX512F FMA\n",
      "To enable them in other operations, rebuild TensorFlow with the appropriate compiler flags.\n",
      "2022-02-07 20:01:29.478197: I tensorflow/core/common_runtime/gpu/gpu_device.cc:1525] Created device /job:localhost/replica:0/task:0/device:GPU:0 with 22345 MB memory:  -> device: 0, name: Graphics Device, pci bus id: 0000:17:00.0, compute capability: 8.6\n",
      "2022-02-07 20:01:29.479318: I tensorflow/core/common_runtime/gpu/gpu_device.cc:1525] Created device /job:localhost/replica:0/task:0/device:GPU:1 with 22345 MB memory:  -> device: 1, name: Graphics Device, pci bus id: 0000:65:00.0, compute capability: 8.6\n"
     ]
    }
   ],
   "source": [
    "import tensorflow as tf\n",
    "import numpy as np\n",
    "mirrored_strategy = tf.distribute.MirroredStrategy(devices=[\"/gpu:0\",\"/gpu:1\"])"
   ]
  },
  {
   "cell_type": "code",
   "execution_count": 2,
   "metadata": {},
   "outputs": [
    {
     "name": "stdout",
     "output_type": "stream",
     "text": [
      "Number of devices: 2\n"
     ]
    }
   ],
   "source": [
    "print('Number of devices: {}'.format(mirrored_strategy.num_replicas_in_sync))"
   ]
  },
  {
   "cell_type": "code",
   "execution_count": 3,
   "metadata": {},
   "outputs": [],
   "source": [
    "#default flag setting\n",
    "\n",
    "flag = {}\n",
    "\n",
    "flag['model_name'] = 'efficientdet-d0'\n",
    "flag['logdir'] = '/tmp/deff/'\n",
    "flag['runmode'] = 'dry'\n",
    "flag['trace_filename'] = None\n",
    "\n",
    "flag['threads'] = 0\n",
    "flag['bm_runs'] = 10\n",
    "flag['tensorrt'] = None\n",
    "flag['delete_logdir'] =True\n",
    "flag['freeze'] = False\n",
    "flag['use_xla'] =False\n",
    "flag['batch_size'] = 1\n",
    "\n",
    "flag['ckpt_path'] = None\n",
    "flag['export_ckpt'] = None\n",
    "\n",
    "flag['hparams'] = ''\n",
    "flag['input_image'] = None\n",
    "flag['output_image_dir'] = None\n",
    "\n",
    "flag['input_video'] = None\n",
    "flag['output_video'] = None\n",
    "\n",
    "flag['line_thickness'] = None\n",
    "flag['max_boxes_to_draw'] = 100\n",
    "flag['min_score_thresh'] = 0.4\n",
    "flag['nms_method'] = 'hard'\n",
    "\n",
    "flag['saved_model_dir'] = '/tmp/saved_model'\n",
    "flag['tfile_path'] = None"
   ]
  },
  {
   "cell_type": "code",
   "execution_count": null,
   "metadata": {},
   "outputs": [],
   "source": [
    "falg['mode']"
   ]
  }
 ],
 "metadata": {
  "interpreter": {
   "hash": "c3b316d9bafbceebb8a7c74076820eeaf33b51a50a55a86f48ec9f9d66c01e89"
  },
  "kernelspec": {
   "display_name": "Python 3.7.12 ('ed')",
   "language": "python",
   "name": "python3"
  },
  "language_info": {
   "codemirror_mode": {
    "name": "ipython",
    "version": 3
   },
   "file_extension": ".py",
   "mimetype": "text/x-python",
   "name": "python",
   "nbconvert_exporter": "python",
   "pygments_lexer": "ipython3",
   "version": "3.7.12"
  },
  "orig_nbformat": 4
 },
 "nbformat": 4,
 "nbformat_minor": 2
}
