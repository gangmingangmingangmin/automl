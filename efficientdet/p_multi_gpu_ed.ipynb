{
 "cells": [
  {
   "cell_type": "code",
   "execution_count": 1,
   "metadata": {},
   "outputs": [
    {
     "name": "stdout",
     "output_type": "stream",
     "text": [
      "INFO:tensorflow:Using MirroredStrategy with devices ('/job:localhost/replica:0/task:0/device:GPU:0', '/job:localhost/replica:0/task:0/device:GPU:1')\n"
     ]
    },
    {
     "name": "stderr",
     "output_type": "stream",
     "text": [
      "2022-02-01 23:18:49.061077: I tensorflow/core/platform/cpu_feature_guard.cc:151] This TensorFlow binary is optimized with oneAPI Deep Neural Network Library (oneDNN) to use the following CPU instructions in performance-critical operations:  AVX2 AVX512F FMA\n",
      "To enable them in other operations, rebuild TensorFlow with the appropriate compiler flags.\n",
      "2022-02-01 23:18:50.006896: I tensorflow/core/common_runtime/gpu/gpu_device.cc:1525] Created device /job:localhost/replica:0/task:0/device:GPU:0 with 22345 MB memory:  -> device: 0, name: Graphics Device, pci bus id: 0000:17:00.0, compute capability: 8.6\n",
      "2022-02-01 23:18:50.008073: I tensorflow/core/common_runtime/gpu/gpu_device.cc:1525] Created device /job:localhost/replica:0/task:0/device:GPU:1 with 22345 MB memory:  -> device: 1, name: Graphics Device, pci bus id: 0000:65:00.0, compute capability: 8.6\n"
     ]
    }
   ],
   "source": [
    "import tensorflow as tf\n",
    "mirrored_strategy = tf.distribute.MirroredStrategy()"
   ]
  },
  {
   "cell_type": "code",
   "execution_count": 2,
   "metadata": {},
   "outputs": [
    {
     "name": "stdout",
     "output_type": "stream",
     "text": [
      "Number of devices: 2\n"
     ]
    }
   ],
   "source": [
    "print('Number of devices: {}'.format(mirrored_strategy.num_replicas_in_sync))"
   ]
  },
  {
   "cell_type": "code",
   "execution_count": 3,
   "metadata": {},
   "outputs": [],
   "source": [
    "#flag들 정의\n",
    "model_name = 'efficientdet-d0'\n",
    "logdir='/tmp/deff/'\n",
    "runmode='dry'\n",
    "trace_filename= None\n",
    "threads= 0\n",
    "bm_runs=10\n",
    "tensorrt= None\n",
    "delete_logdir=True\n",
    "freeze=False\n",
    "use_xla=False\n",
    "batch_size=1\n",
    "ckpt_path=None\n",
    "export_ckpt= None\n",
    "hparams=''\n",
    "input_image=None\n",
    "output_image_dir=None\n",
    "input_video=None\n",
    "output_video=None\n",
    "line_thickness=None\n",
    "max_boxes_to_draw=100\n",
    "min_score_thresh=0.4\n",
    "nms_method='hard'\n",
    "saved_model_dir='/tmp/saved_model'\n",
    "tflite_path=None"
   ]
  },
  {
   "cell_type": "code",
   "execution_count": 4,
   "metadata": {},
   "outputs": [
    {
     "name": "stdout",
     "output_type": "stream",
     "text": [
      "Use model in /home/gmpark/automl/efficientdet/efficientdet-d0\n"
     ]
    }
   ],
   "source": [
    "import os\n",
    "MODEL = 'efficientdet-d0'\n",
    "ckpt_path = os.path.join(os.getcwd(), MODEL)\n",
    "print('Use model in {}'.format(ckpt_path))\n",
    "\n",
    "img_path = os.path.join(os.getcwd(), 'p_dataset/img.png')\n",
    "\n",
    "min_score_thresh = 0.35  #@param\n",
    "max_boxes_to_draw = 200  #@param\n",
    "line_thickness =   2#@param\n",
    "\n",
    "from PIL import Image\n",
    "# Get the largest of height/width and round to 128.\n",
    "image_size = max(Image.open(img_path).size)"
   ]
  },
  {
   "cell_type": "code",
   "execution_count": 5,
   "metadata": {},
   "outputs": [],
   "source": [
    "runmode='saved_model'\n",
    "model_name=MODEL\n",
    "ckpt_path=ckpt_path\n",
    "hparams=\"image_size=1920x1280\"\n",
    "saved_model_dir = 'savedmodel'"
   ]
  },
  {
   "cell_type": "code",
   "execution_count": 6,
   "metadata": {},
   "outputs": [],
   "source": [
    "#분산 선언\n",
    "from model_inspect import ModelInspector\n",
    "with mirrored_strategy.scope():\n",
    "    inspector = ModelInspector(\n",
    "    model_name=model_name,\n",
    "    logdir=logdir,\n",
    "    tensorrt=tensorrt,\n",
    "    use_xla=use_xla,\n",
    "    ckpt_path=ckpt_path,\n",
    "    export_ckpt=export_ckpt,\n",
    "    saved_model_dir=saved_model_dir,\n",
    "    tflite_path=tflite_path,\n",
    "    batch_size=batch_size,\n",
    "    hparams=hparams,\n",
    "    score_thresh=min_score_thresh,\n",
    "    max_output_size=max_boxes_to_draw,\n",
    "    nms_method=nms_method)\n",
    "    \n",
    "    "
   ]
  },
  {
   "cell_type": "code",
   "execution_count": 7,
   "metadata": {},
   "outputs": [],
   "source": [
    "\n",
    "def train_step(inputs):\n",
    "    runmode,input_image,output_image_dir,input_video,output_video,line_thickness,max_boxes_to_draw,min_score_thresh,nms_method,bm_runs,threads,trace_filename = inputs\n",
    "    print(runmode,input_image,output_image_dir,input_video,output_video,line_thickness,max_boxes_to_draw,min_score_thresh,nms_method,bm_runs,threads,trace_filename)\n",
    "    inspector.run_model(\n",
    "      runmode,\n",
    "      input_image=input_image,\n",
    "      output_image_dir=output_image_dir,\n",
    "      input_video=input_video,\n",
    "      output_video=output_video,\n",
    "      line_thickness=line_thickness,\n",
    "      max_boxes_to_draw=max_boxes_to_draw,\n",
    "      min_score_thresh=min_score_thresh,\n",
    "      nms_method=nms_method,\n",
    "      bm_runs=bm_runs,\n",
    "      threads=threads,\n",
    "      trace_filename=trace_filename)"
   ]
  },
  {
   "cell_type": "code",
   "execution_count": 8,
   "metadata": {},
   "outputs": [
    {
     "name": "stdout",
     "output_type": "stream",
     "text": [
      "saved_model None None None None 2 200 0.35 hard 10 0 None\n"
     ]
    },
    {
     "name": "stderr",
     "output_type": "stream",
     "text": [
      "2022-02-01 23:18:52.143648: I tensorflow/core/common_runtime/gpu/gpu_device.cc:1525] Created device /job:localhost/replica:0/task:0/device:GPU:0 with 22345 MB memory:  -> device: 0, name: Graphics Device, pci bus id: 0000:17:00.0, compute capability: 8.6\n",
      "2022-02-01 23:18:52.144468: I tensorflow/core/common_runtime/gpu/gpu_device.cc:1525] Created device /job:localhost/replica:0/task:0/device:GPU:1 with 22345 MB memory:  -> device: 1, name: Graphics Device, pci bus id: 0000:65:00.0, compute capability: 8.6\n"
     ]
    },
    {
     "name": "stdout",
     "output_type": "stream",
     "text": [
      "WARNING:tensorflow:From /home/gmpark/anaconda3/envs/ed/lib/python3.7/site-packages/tensorflow/python/autograph/converters/directives.py:130: The name tf.keras.layers.enable_v2_dtype_behavior is deprecated. Please use tf.compat.v1.keras.layers.enable_v2_dtype_behavior instead.\n",
      "\n"
     ]
    },
    {
     "name": "stderr",
     "output_type": "stream",
     "text": [
      "/home/gmpark/automl/efficientdet/utils.py:23: UserWarning: `layer.updates` will be removed in a future version. This property should not be used in TensorFlow 2.0, as `updates` are applied automatically.\n",
      "  from tensorflow.python.tpu import tpu_function  # pylint:disable=g-direct-tensorflow-import\n",
      "/home/gmpark/automl/efficientdet/utils.py:255: UserWarning: `layer.updates` will be removed in a future version. This property should not be used in TensorFlow 2.0, as `updates` are applied automatically.\n",
      "  for u in self.updates:\n"
     ]
    },
    {
     "name": "stdout",
     "output_type": "stream",
     "text": [
      "INFO:tensorflow:Error reported to Coordinator: in user code:\n",
      "\n",
      "    File \"/tmp/ipykernel_1294/105862541.py\", line 4, in train_step  *\n",
      "        inspector.run_model(\n",
      "    File \"/home/gmpark/automl/efficientdet/model_inspect.py\", line 462, in run_model  *\n",
      "        self.export_saved_model(**config_dict)\n",
      "    File \"/home/gmpark/automl/efficientdet/model_inspect.py\", line 150, in export_saved_model  *\n",
      "        driver.build()\n",
      "    File \"/home/gmpark/automl/efficientdet/inference.py\", line 465, in build  *\n",
      "        restore_ckpt(\n",
      "    File \"/home/gmpark/automl/efficientdet/inference.py\", line 210, in restore_ckpt  *\n",
      "        var_dict = ema.variables_to_restore(ema_vars)\n",
      "\n",
      "    TypeError: Variable is unhashable. Instead, use variable.ref() as the key. (Variable: MirroredVariable:{\n",
      "      0: <tf.Variable 'Variable:0' shape=() dtype=int64>,\n",
      "      1: <tf.Variable 'Variable/replica_1:0' shape=() dtype=int64>\n",
      "    })\n",
      "Traceback (most recent call last):\n",
      "  File \"/home/gmpark/anaconda3/envs/ed/lib/python3.7/site-packages/tensorflow/python/training/coordinator.py\", line 297, in stop_on_exception\n",
      "    yield\n",
      "  File \"/home/gmpark/anaconda3/envs/ed/lib/python3.7/site-packages/tensorflow/python/distribute/mirrored_run.py\", line 346, in run\n",
      "    self.main_result = self.main_fn(*self.main_args, **self.main_kwargs)\n",
      "  File \"/home/gmpark/anaconda3/envs/ed/lib/python3.7/site-packages/tensorflow/python/autograph/impl/api.py\", line 699, in wrapper\n",
      "    raise e.ag_error_metadata.to_exception(e)\n",
      "TypeError: in user code:\n",
      "\n",
      "    File \"/tmp/ipykernel_1294/105862541.py\", line 4, in train_step  *\n",
      "        inspector.run_model(\n",
      "    File \"/home/gmpark/automl/efficientdet/model_inspect.py\", line 462, in run_model  *\n",
      "        self.export_saved_model(**config_dict)\n",
      "    File \"/home/gmpark/automl/efficientdet/model_inspect.py\", line 150, in export_saved_model  *\n",
      "        driver.build()\n",
      "    File \"/home/gmpark/automl/efficientdet/inference.py\", line 465, in build  *\n",
      "        restore_ckpt(\n",
      "    File \"/home/gmpark/automl/efficientdet/inference.py\", line 210, in restore_ckpt  *\n",
      "        var_dict = ema.variables_to_restore(ema_vars)\n",
      "\n",
      "    TypeError: Variable is unhashable. Instead, use variable.ref() as the key. (Variable: MirroredVariable:{\n",
      "      0: <tf.Variable 'Variable:0' shape=() dtype=int64>,\n",
      "      1: <tf.Variable 'Variable/replica_1:0' shape=() dtype=int64>\n",
      "    })\n",
      "\n"
     ]
    },
    {
     "name": "stderr",
     "output_type": "stream",
     "text": [
      "INFO:tensorflow:Error reported to Coordinator: in user code:\n",
      "\n",
      "    File \"/tmp/ipykernel_1294/105862541.py\", line 4, in train_step  *\n",
      "        inspector.run_model(\n",
      "    File \"/home/gmpark/automl/efficientdet/model_inspect.py\", line 462, in run_model  *\n",
      "        self.export_saved_model(**config_dict)\n",
      "    File \"/home/gmpark/automl/efficientdet/model_inspect.py\", line 150, in export_saved_model  *\n",
      "        driver.build()\n",
      "    File \"/home/gmpark/automl/efficientdet/inference.py\", line 465, in build  *\n",
      "        restore_ckpt(\n",
      "    File \"/home/gmpark/automl/efficientdet/inference.py\", line 210, in restore_ckpt  *\n",
      "        var_dict = ema.variables_to_restore(ema_vars)\n",
      "\n",
      "    TypeError: Variable is unhashable. Instead, use variable.ref() as the key. (Variable: MirroredVariable:{\n",
      "      0: <tf.Variable 'Variable:0' shape=() dtype=int64>,\n",
      "      1: <tf.Variable 'Variable/replica_1:0' shape=() dtype=int64>\n",
      "    })\n",
      "Traceback (most recent call last):\n",
      "  File \"/home/gmpark/anaconda3/envs/ed/lib/python3.7/site-packages/tensorflow/python/training/coordinator.py\", line 297, in stop_on_exception\n",
      "    yield\n",
      "  File \"/home/gmpark/anaconda3/envs/ed/lib/python3.7/site-packages/tensorflow/python/distribute/mirrored_run.py\", line 346, in run\n",
      "    self.main_result = self.main_fn(*self.main_args, **self.main_kwargs)\n",
      "  File \"/home/gmpark/anaconda3/envs/ed/lib/python3.7/site-packages/tensorflow/python/autograph/impl/api.py\", line 699, in wrapper\n",
      "    raise e.ag_error_metadata.to_exception(e)\n",
      "TypeError: in user code:\n",
      "\n",
      "    File \"/tmp/ipykernel_1294/105862541.py\", line 4, in train_step  *\n",
      "        inspector.run_model(\n",
      "    File \"/home/gmpark/automl/efficientdet/model_inspect.py\", line 462, in run_model  *\n",
      "        self.export_saved_model(**config_dict)\n",
      "    File \"/home/gmpark/automl/efficientdet/model_inspect.py\", line 150, in export_saved_model  *\n",
      "        driver.build()\n",
      "    File \"/home/gmpark/automl/efficientdet/inference.py\", line 465, in build  *\n",
      "        restore_ckpt(\n",
      "    File \"/home/gmpark/automl/efficientdet/inference.py\", line 210, in restore_ckpt  *\n",
      "        var_dict = ema.variables_to_restore(ema_vars)\n",
      "\n",
      "    TypeError: Variable is unhashable. Instead, use variable.ref() as the key. (Variable: MirroredVariable:{\n",
      "      0: <tf.Variable 'Variable:0' shape=() dtype=int64>,\n",
      "      1: <tf.Variable 'Variable/replica_1:0' shape=() dtype=int64>\n",
      "    })\n",
      "\n"
     ]
    },
    {
     "ename": "TypeError",
     "evalue": "in user code:\n\n    File \"/tmp/ipykernel_1294/4115394738.py\", line 4, in distributed_train_step  *\n        mirrored_strategy.run(train_step,args=(args,))\n    File \"/tmp/ipykernel_1294/105862541.py\", line 4, in train_step  *\n        inspector.run_model(\n    File \"/home/gmpark/automl/efficientdet/model_inspect.py\", line 462, in run_model  *\n        self.export_saved_model(**config_dict)\n    File \"/home/gmpark/automl/efficientdet/model_inspect.py\", line 150, in export_saved_model  *\n        driver.build()\n    File \"/home/gmpark/automl/efficientdet/inference.py\", line 465, in build  *\n        restore_ckpt(\n    File \"/home/gmpark/automl/efficientdet/inference.py\", line 210, in restore_ckpt  *\n        var_dict = ema.variables_to_restore(ema_vars)\n\n    TypeError: Variable is unhashable. Instead, use variable.ref() as the key. (Variable: MirroredVariable:{\n      0: <tf.Variable 'Variable:0' shape=() dtype=int64>,\n      1: <tf.Variable 'Variable/replica_1:0' shape=() dtype=int64>\n    })\n",
     "output_type": "error",
     "traceback": [
      "\u001b[0;31m---------------------------------------------------------------------------\u001b[0m",
      "\u001b[0;31mTypeError\u001b[0m                                 Traceback (most recent call last)",
      "\u001b[0;32m/tmp/ipykernel_1294/4115394738.py\u001b[0m in \u001b[0;36m<module>\u001b[0;34m\u001b[0m\n\u001b[1;32m      4\u001b[0m     \u001b[0mmirrored_strategy\u001b[0m\u001b[0;34m.\u001b[0m\u001b[0mrun\u001b[0m\u001b[0;34m(\u001b[0m\u001b[0mtrain_step\u001b[0m\u001b[0;34m,\u001b[0m\u001b[0margs\u001b[0m\u001b[0;34m=\u001b[0m\u001b[0;34m(\u001b[0m\u001b[0margs\u001b[0m\u001b[0;34m,\u001b[0m\u001b[0;34m)\u001b[0m\u001b[0;34m)\u001b[0m\u001b[0;34m\u001b[0m\u001b[0;34m\u001b[0m\u001b[0m\n\u001b[1;32m      5\u001b[0m \u001b[0margs\u001b[0m\u001b[0;34m=\u001b[0m\u001b[0;34m(\u001b[0m\u001b[0mrunmode\u001b[0m\u001b[0;34m,\u001b[0m\u001b[0minput_image\u001b[0m\u001b[0;34m,\u001b[0m\u001b[0moutput_image_dir\u001b[0m\u001b[0;34m,\u001b[0m\u001b[0minput_video\u001b[0m\u001b[0;34m,\u001b[0m\u001b[0moutput_video\u001b[0m\u001b[0;34m,\u001b[0m\u001b[0mline_thickness\u001b[0m\u001b[0;34m,\u001b[0m\u001b[0mmax_boxes_to_draw\u001b[0m\u001b[0;34m,\u001b[0m\u001b[0mmin_score_thresh\u001b[0m\u001b[0;34m,\u001b[0m\u001b[0mnms_method\u001b[0m\u001b[0;34m,\u001b[0m\u001b[0mbm_runs\u001b[0m\u001b[0;34m,\u001b[0m\u001b[0mthreads\u001b[0m\u001b[0;34m,\u001b[0m\u001b[0mtrace_filename\u001b[0m\u001b[0;34m)\u001b[0m\u001b[0;34m\u001b[0m\u001b[0;34m\u001b[0m\u001b[0m\n\u001b[0;32m----> 6\u001b[0;31m \u001b[0mdistributed_train_step\u001b[0m\u001b[0;34m(\u001b[0m\u001b[0;34m)\u001b[0m\u001b[0;34m\u001b[0m\u001b[0;34m\u001b[0m\u001b[0m\n\u001b[0m",
      "\u001b[0;32m~/anaconda3/envs/ed/lib/python3.7/site-packages/tensorflow/python/util/traceback_utils.py\u001b[0m in \u001b[0;36merror_handler\u001b[0;34m(*args, **kwargs)\u001b[0m\n\u001b[1;32m    151\u001b[0m     \u001b[0;32mexcept\u001b[0m \u001b[0mException\u001b[0m \u001b[0;32mas\u001b[0m \u001b[0me\u001b[0m\u001b[0;34m:\u001b[0m\u001b[0;34m\u001b[0m\u001b[0;34m\u001b[0m\u001b[0m\n\u001b[1;32m    152\u001b[0m       \u001b[0mfiltered_tb\u001b[0m \u001b[0;34m=\u001b[0m \u001b[0m_process_traceback_frames\u001b[0m\u001b[0;34m(\u001b[0m\u001b[0me\u001b[0m\u001b[0;34m.\u001b[0m\u001b[0m__traceback__\u001b[0m\u001b[0;34m)\u001b[0m\u001b[0;34m\u001b[0m\u001b[0;34m\u001b[0m\u001b[0m\n\u001b[0;32m--> 153\u001b[0;31m       \u001b[0;32mraise\u001b[0m \u001b[0me\u001b[0m\u001b[0;34m.\u001b[0m\u001b[0mwith_traceback\u001b[0m\u001b[0;34m(\u001b[0m\u001b[0mfiltered_tb\u001b[0m\u001b[0;34m)\u001b[0m \u001b[0;32mfrom\u001b[0m \u001b[0;32mNone\u001b[0m\u001b[0;34m\u001b[0m\u001b[0;34m\u001b[0m\u001b[0m\n\u001b[0m\u001b[1;32m    154\u001b[0m     \u001b[0;32mfinally\u001b[0m\u001b[0;34m:\u001b[0m\u001b[0;34m\u001b[0m\u001b[0;34m\u001b[0m\u001b[0m\n\u001b[1;32m    155\u001b[0m       \u001b[0;32mdel\u001b[0m \u001b[0mfiltered_tb\u001b[0m\u001b[0;34m\u001b[0m\u001b[0;34m\u001b[0m\u001b[0m\n",
      "\u001b[0;32m~/anaconda3/envs/ed/lib/python3.7/site-packages/tensorflow/python/framework/func_graph.py\u001b[0m in \u001b[0;36mautograph_handler\u001b[0;34m(*args, **kwargs)\u001b[0m\n\u001b[1;32m   1127\u001b[0m           \u001b[0;32mexcept\u001b[0m \u001b[0mException\u001b[0m \u001b[0;32mas\u001b[0m \u001b[0me\u001b[0m\u001b[0;34m:\u001b[0m  \u001b[0;31m# pylint:disable=broad-except\u001b[0m\u001b[0;34m\u001b[0m\u001b[0;34m\u001b[0m\u001b[0m\n\u001b[1;32m   1128\u001b[0m             \u001b[0;32mif\u001b[0m \u001b[0mhasattr\u001b[0m\u001b[0;34m(\u001b[0m\u001b[0me\u001b[0m\u001b[0;34m,\u001b[0m \u001b[0;34m\"ag_error_metadata\"\u001b[0m\u001b[0;34m)\u001b[0m\u001b[0;34m:\u001b[0m\u001b[0;34m\u001b[0m\u001b[0;34m\u001b[0m\u001b[0m\n\u001b[0;32m-> 1129\u001b[0;31m               \u001b[0;32mraise\u001b[0m \u001b[0me\u001b[0m\u001b[0;34m.\u001b[0m\u001b[0mag_error_metadata\u001b[0m\u001b[0;34m.\u001b[0m\u001b[0mto_exception\u001b[0m\u001b[0;34m(\u001b[0m\u001b[0me\u001b[0m\u001b[0;34m)\u001b[0m\u001b[0;34m\u001b[0m\u001b[0;34m\u001b[0m\u001b[0m\n\u001b[0m\u001b[1;32m   1130\u001b[0m             \u001b[0;32melse\u001b[0m\u001b[0;34m:\u001b[0m\u001b[0;34m\u001b[0m\u001b[0;34m\u001b[0m\u001b[0m\n\u001b[1;32m   1131\u001b[0m               \u001b[0;32mraise\u001b[0m\u001b[0;34m\u001b[0m\u001b[0;34m\u001b[0m\u001b[0m\n",
      "\u001b[0;31mTypeError\u001b[0m: in user code:\n\n    File \"/tmp/ipykernel_1294/4115394738.py\", line 4, in distributed_train_step  *\n        mirrored_strategy.run(train_step,args=(args,))\n    File \"/tmp/ipykernel_1294/105862541.py\", line 4, in train_step  *\n        inspector.run_model(\n    File \"/home/gmpark/automl/efficientdet/model_inspect.py\", line 462, in run_model  *\n        self.export_saved_model(**config_dict)\n    File \"/home/gmpark/automl/efficientdet/model_inspect.py\", line 150, in export_saved_model  *\n        driver.build()\n    File \"/home/gmpark/automl/efficientdet/inference.py\", line 465, in build  *\n        restore_ckpt(\n    File \"/home/gmpark/automl/efficientdet/inference.py\", line 210, in restore_ckpt  *\n        var_dict = ema.variables_to_restore(ema_vars)\n\n    TypeError: Variable is unhashable. Instead, use variable.ref() as the key. (Variable: MirroredVariable:{\n      0: <tf.Variable 'Variable:0' shape=() dtype=int64>,\n      1: <tf.Variable 'Variable/replica_1:0' shape=() dtype=int64>\n    })\n"
     ]
    }
   ],
   "source": [
    "@tf.function\n",
    "def distributed_train_step():\n",
    "    \n",
    "    mirrored_strategy.run(train_step,args=(args,))\n",
    "args=(runmode,input_image,output_image_dir,input_video,output_video,line_thickness,max_boxes_to_draw,min_score_thresh,nms_method,bm_runs,threads,trace_filename)\n",
    "distributed_train_step()"
   ]
  },
  {
   "cell_type": "code",
   "execution_count": null,
   "metadata": {},
   "outputs": [],
   "source": []
  }
 ],
 "metadata": {
  "interpreter": {
   "hash": "c3b316d9bafbceebb8a7c74076820eeaf33b51a50a55a86f48ec9f9d66c01e89"
  },
  "kernelspec": {
   "display_name": "Python 3.7.12 64-bit ('ed': conda)",
   "language": "python",
   "name": "python3"
  },
  "language_info": {
   "codemirror_mode": {
    "name": "ipython",
    "version": 3
   },
   "file_extension": ".py",
   "mimetype": "text/x-python",
   "name": "python",
   "nbconvert_exporter": "python",
   "pygments_lexer": "ipython3",
   "version": "3.7.12"
  },
  "orig_nbformat": 4
 },
 "nbformat": 4,
 "nbformat_minor": 2
}
